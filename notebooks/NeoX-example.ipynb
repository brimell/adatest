{
 "cells": [
  {
   "cell_type": "code",
   "execution_count": null,
   "metadata": {},
   "outputs": [],
   "source": [
    "import torch\n",
    "torch.manual_seed(1012351)\n",
    "\n",
    "from transformers import AutoModelForSequenceClassification, AutoTokenizer\n",
    "from transformers import pipeline\n",
    "\n",
    "base_model_name = \"aychang/roberta-base-imdb\"\n",
    "\n",
    "model = AutoModelForSequenceClassification.from_pretrained(base_model_name,num_labels=2)\n",
    "tokenizer = AutoTokenizer.from_pretrained(base_model_name)\n",
    "\n",
    "original_pipeline = pipeline(\"sentiment-analysis\",\n",
    "                             model=model,\n",
    "                             tokenizer=tokenizer)\n",
    "\n",
    "sample_strings = [\n",
    "    \"Great cinematography but a poor movie overall\",\n",
    "    \"Snappy dialogue makes for enjoyable entertainment\",\n",
    "    \"Located on a busy street with much traffic\"\n",
    "]\n",
    "\n",
    "for s in sample_strings:\n",
    "    print(s, \"\\n\", original_pipeline(s), \"\\n\")"
   ]
  },
  {
   "cell_type": "markdown",
   "metadata": {},
   "source": [
    "Example how to use the NeoXAPI generator with the imdb_hotel_conversation data "
   ]
  },
  {
   "cell_type": "code",
   "execution_count": null,
   "metadata": {},
   "outputs": [],
   "source": [
    "import adatest\n",
    "\n",
    "NEOX_URL = \"\"\n",
    "NEOX_API_KEY = \"\"\n",
    "\n",
    "generator = adatest.generators.NeoXAPI(url=NEOX_URL, api_key=NEOX_API_KEY)\n",
    "tests = adatest.TestTree(\"imdb_hotel_conversion.csv\")\n",
    "\n",
    "adatest.serve(\n",
    "    tests.adapt(original_pipeline, generator, auto_save=True, recompute_scores=True)\n",
    ")"
   ]
  }
 ],
 "metadata": {
  "kernelspec": {
   "display_name": "Python 3.9.12 ('base')",
   "language": "python",
   "name": "python3"
  },
  "language_info": {
   "name": "python",
   "version": "3.9.12"
  },
  "orig_nbformat": 4,
  "vscode": {
   "interpreter": {
    "hash": "458f38d3045ab231ff1642ae55323c03e39bcf41f0aea1bc5e8b6d64aabe0e9b"
   }
  }
 },
 "nbformat": 4,
 "nbformat_minor": 2
}
